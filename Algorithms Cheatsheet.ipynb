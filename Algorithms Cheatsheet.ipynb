{
 "cells": [
  {
   "cell_type": "markdown",
   "id": "d4d43b27",
   "metadata": {
    "toc": true
   },
   "source": [
    "<h1>Table of Contents<span class=\"tocSkip\"></span></h1>\n",
    "<div class=\"toc\"><ul class=\"toc-item\"><li><span><a href=\"#Algorithms\" data-toc-modified-id=\"Algorithms-1\"><span class=\"toc-item-num\">1&nbsp;&nbsp;</span>Algorithms</a></span></li><li><span><a href=\"#Insertion-Sort\" data-toc-modified-id=\"Insertion-Sort-2\"><span class=\"toc-item-num\">2&nbsp;&nbsp;</span>Insertion Sort</a></span><ul class=\"toc-item\"><li><ul class=\"toc-item\"><li><span><a href=\"#Psuedo-code\" data-toc-modified-id=\"Psuedo-code-2.0.1\"><span class=\"toc-item-num\">2.0.1&nbsp;&nbsp;</span>Psuedo-code</a></span></li><li><span><a href=\"#Code-with-prints\" data-toc-modified-id=\"Code-with-prints-2.0.2\"><span class=\"toc-item-num\">2.0.2&nbsp;&nbsp;</span>Code with prints</a></span></li><li><span><a href=\"#Insertion-Sort\" data-toc-modified-id=\"Insertion-Sort-2.0.3\"><span class=\"toc-item-num\">2.0.3&nbsp;&nbsp;</span>Insertion Sort</a></span></li></ul></li></ul></li><li><span><a href=\"#Binary-Search\" data-toc-modified-id=\"Binary-Search-3\"><span class=\"toc-item-num\">3&nbsp;&nbsp;</span>Binary Search</a></span><ul class=\"toc-item\"><li><span><a href=\"#template-1\" data-toc-modified-id=\"template-1-3.1\"><span class=\"toc-item-num\">3.1&nbsp;&nbsp;</span>template 1</a></span></li><li><span><a href=\"#template-2\" data-toc-modified-id=\"template-2-3.2\"><span class=\"toc-item-num\">3.2&nbsp;&nbsp;</span>template 2</a></span></li></ul></li><li><span><a href=\"#Stack-Class\" data-toc-modified-id=\"Stack-Class-4\"><span class=\"toc-item-num\">4&nbsp;&nbsp;</span>Stack Class</a></span><ul class=\"toc-item\"><li><span><a href=\"#Reverse-a-String\" data-toc-modified-id=\"Reverse-a-String-4.1\"><span class=\"toc-item-num\">4.1&nbsp;&nbsp;</span>Reverse a String</a></span></li></ul></li><li><span><a href=\"#Queue-Class\" data-toc-modified-id=\"Queue-Class-5\"><span class=\"toc-item-num\">5&nbsp;&nbsp;</span>Queue Class</a></span></li><li><span><a href=\"#Priority-Queue\" data-toc-modified-id=\"Priority-Queue-6\"><span class=\"toc-item-num\">6&nbsp;&nbsp;</span>Priority Queue</a></span></li><li><span><a href=\"#Linkedin---Algorithmic-Thinking---Foundations\" data-toc-modified-id=\"Linkedin---Algorithmic-Thinking---Foundations-7\"><span class=\"toc-item-num\">7&nbsp;&nbsp;</span>Linkedin - Algorithmic Thinking - Foundations</a></span><ul class=\"toc-item\"><li><span><a href=\"#100-Doors-Challenge\" data-toc-modified-id=\"100-Doors-Challenge-7.1\"><span class=\"toc-item-num\">7.1&nbsp;&nbsp;</span>100 Doors Challenge</a></span></li><li><span><a href=\"#FizzBuzz\" data-toc-modified-id=\"FizzBuzz-7.2\"><span class=\"toc-item-num\">7.2&nbsp;&nbsp;</span>FizzBuzz</a></span></li><li><span><a href=\"#Linear-Search\" data-toc-modified-id=\"Linear-Search-7.3\"><span class=\"toc-item-num\">7.3&nbsp;&nbsp;</span>Linear Search</a></span></li></ul></li><li><span><a href=\"#LeetCode-Questions\" data-toc-modified-id=\"LeetCode-Questions-8\"><span class=\"toc-item-num\">8&nbsp;&nbsp;</span>LeetCode Questions</a></span><ul class=\"toc-item\"><li><span><a href=\"#Rank-Score\" data-toc-modified-id=\"Rank-Score-8.1\"><span class=\"toc-item-num\">8.1&nbsp;&nbsp;</span>Rank Score</a></span></li><li><span><a href=\"#Nth_highest_Number\" data-toc-modified-id=\"Nth_highest_Number-8.2\"><span class=\"toc-item-num\">8.2&nbsp;&nbsp;</span>Nth_highest_Number</a></span></li><li><span><a href=\"#Two-sum\" data-toc-modified-id=\"Two-sum-8.3\"><span class=\"toc-item-num\">8.3&nbsp;&nbsp;</span>Two sum</a></span></li><li><span><a href=\"#Best-Time-to-Buy-and-Sell-Stock\" data-toc-modified-id=\"Best-Time-to-Buy-and-Sell-Stock-8.4\"><span class=\"toc-item-num\">8.4&nbsp;&nbsp;</span>Best Time to Buy and Sell Stock</a></span><ul class=\"toc-item\"><li><span><a href=\"#Peuedo-code\" data-toc-modified-id=\"Peuedo-code-8.4.1\"><span class=\"toc-item-num\">8.4.1&nbsp;&nbsp;</span>Peuedo code</a></span></li><li><span><a href=\"#Worse-Solution-(from-leetcode)---mine-is-faster-but-i-cant-pass-this-test:-[1,2,4]\" data-toc-modified-id=\"Worse-Solution-(from-leetcode)---mine-is-faster-but-i-cant-pass-this-test:-[1,2,4]-8.4.2\"><span class=\"toc-item-num\">8.4.2&nbsp;&nbsp;</span>Worse Solution (from leetcode) - mine is faster but i cant pass this test: [1,2,4]</a></span></li></ul></li><li><span><a href=\"#Contains-Duplicate\" data-toc-modified-id=\"Contains-Duplicate-8.5\"><span class=\"toc-item-num\">8.5&nbsp;&nbsp;</span>Contains Duplicate</a></span><ul class=\"toc-item\"><li><span><a href=\"#Pseudo-code\" data-toc-modified-id=\"Pseudo-code-8.5.1\"><span class=\"toc-item-num\">8.5.1&nbsp;&nbsp;</span>Pseudo code</a></span></li><li><span><a href=\"#Pseudo-code---Brute-force\" data-toc-modified-id=\"Pseudo-code---Brute-force-8.5.2\"><span class=\"toc-item-num\">8.5.2&nbsp;&nbsp;</span>Pseudo code - Brute force</a></span></li><li><span><a href=\"#Pseudo-Code---Improved\" data-toc-modified-id=\"Pseudo-Code---Improved-8.5.3\"><span class=\"toc-item-num\">8.5.3&nbsp;&nbsp;</span>Pseudo Code - Improved</a></span></li></ul></li></ul></li></ul></div>"
   ]
  },
  {
   "cell_type": "code",
   "execution_count": 79,
   "id": "11322410",
   "metadata": {},
   "outputs": [],
   "source": [
    "%config Completer.use_jedi = False"
   ]
  },
  {
   "cell_type": "markdown",
   "id": "5c80a23f-9bb1-4563-9c1b-13a9909a164f",
   "metadata": {},
   "source": [
    "# Algorithms"
   ]
  },
  {
   "cell_type": "code",
   "execution_count": null,
   "id": "7ff44bee-4a26-4042-876f-bfd820f07d0f",
   "metadata": {},
   "outputs": [],
   "source": [
    "- Use this Algorithms classes notebook alongside this one.\n"
   ]
  },
  {
   "cell_type": "markdown",
   "id": "401222b1-31af-4150-85cf-c40b8ae38f3f",
   "metadata": {},
   "source": [
    "- The algorithms here will be based on the book Introduction to Algorithms, both of my \"Python Algorithms\" github repositories, and any onther resources that ill add later on.\n",
    "- Ill add the algorithms to a class called my_algorithms"
   ]
  },
  {
   "cell_type": "markdown",
   "id": "80e5d4e4-b921-48b7-97b6-7f2ec029e9b9",
   "metadata": {},
   "source": [
    "Visualize the Algorithms - https://www.cs.usfca.edu/~galles/visualization"
   ]
  },
  {
   "cell_type": "code",
   "execution_count": 27,
   "id": "2ca47e2d-e841-424b-926a-c39762af8959",
   "metadata": {},
   "outputs": [],
   "source": [
    "class my_algorithms:\n",
    "    \n",
    "    def __init__(self):\n",
    "        pass"
   ]
  },
  {
   "cell_type": "markdown",
   "id": "2dab34c5-97a6-4f5a-96bf-5e4e2245dbf3",
   "metadata": {},
   "source": [
    "# Insertion Sort"
   ]
  },
  {
   "cell_type": "markdown",
   "id": "8da41e97-c724-4e84-8e15-6e1a11fedfb0",
   "metadata": {},
   "source": [
    "### Psuedo-code"
   ]
  },
  {
   "cell_type": "code",
   "execution_count": null,
   "id": "d5281ec2-0daa-42c7-8081-73de0001db68",
   "metadata": {},
   "outputs": [],
   "source": [
    "insertion_sort(A):\n",
    "    for j = 2 to len(A):\n",
    "        key = A[j]\n",
    "        i = j - 1\n",
    "        \n",
    "        while i > 0 and A[i] > key:\n",
    "            A[i + 1] = A[i]\n",
    "            i = i - 1\n",
    "        A[i + 1] = key"
   ]
  },
  {
   "cell_type": "markdown",
   "id": "0b563747-adcd-45a7-82ef-201d23d2fe5a",
   "metadata": {},
   "source": [
    "- Iterating through the sequence\n",
    "- i is always one index lower than j\n",
    "- So A[j] will always be bigger than A[i], IF the array is sorted.\n",
    "- So we go though the array, and while A[i] is bigger than A[j], move A[i] one spot to the left.\n",
    "- Keep doing it until A[j] is bigger than A[i]\n",
    "- Set A[i] to be the index after A[j](i.e skip the part of the array that we already sorted)."
   ]
  },
  {
   "cell_type": "markdown",
   "id": "6a989300-6587-4bfe-b2fc-8217eb5a0fb7",
   "metadata": {},
   "source": [
    "### Code with prints"
   ]
  },
  {
   "cell_type": "code",
   "execution_count": 1,
   "id": "5dfd8a54-72a5-49a1-a70c-e5b2f34eafc8",
   "metadata": {},
   "outputs": [
    {
     "name": "stdout",
     "output_type": "stream",
     "text": [
      "A: [1, 3, 4, 5, 2, 7]\n",
      "Iteration number: 1\n",
      "j: 2\n",
      "A[j]: 4\n",
      "i: 1\n",
      "A[i]: 3\n",
      "\n",
      "A: [1, 3, 4, 5, 2, 7]\n",
      "Iteration number: 2\n",
      "j: 3\n",
      "A[j]: 5\n",
      "i: 2\n",
      "A[i]: 4\n",
      "\n",
      "A: [1, 3, 4, 5, 2, 7]\n",
      "Iteration number: 3\n",
      "j: 4\n",
      "A[j]: 2\n",
      "i: 3\n",
      "A[i]: 5\n",
      "\n",
      "A: [1, 2, 3, 4, 5, 7]\n",
      "Iteration number: 4\n",
      "j: 5\n",
      "A[j]: 7\n",
      "i: 4\n",
      "A[i]: 5\n",
      "\n",
      "A: [1, 2, 3, 4, 5, 7]\n"
     ]
    }
   ],
   "source": [
    "A = [1,3,4,5,2,7]\n",
    "counter = 1\n",
    "\n",
    "print('A: {}'.format(A))\n",
    "for j in range(2,len(A)):\n",
    "    \n",
    "    \n",
    "    key = A[j]\n",
    "    \n",
    "    i = j - 1\n",
    "    \n",
    "    print('Iteration number: {}'.format(counter))\n",
    "    print('j: {}'.format(j))\n",
    "    print('A[j]: {}'.format(key))\n",
    "    print('i: {}'.format(i))\n",
    "    print('A[i]: {}'.format(A[i]))\n",
    "    \n",
    "    while i > 0 and A[i] > key:\n",
    "        A[i + 1] = A[i]\n",
    "        i = i - 1\n",
    "        \n",
    "    A[i + 1] = key\n",
    "    \n",
    "    print('\\nA: {}'.format(A))\n",
    "    counter += 1\n"
   ]
  },
  {
   "cell_type": "markdown",
   "id": "784d008c-203c-451e-9f5d-c42d8fe3d219",
   "metadata": {},
   "source": [
    "### Insertion Sort"
   ]
  },
  {
   "cell_type": "code",
   "execution_count": 11,
   "id": "98809847-eab6-4c0b-88e4-e8a675aa78eb",
   "metadata": {},
   "outputs": [],
   "source": [
    "class my_algorithms:\n",
    "    \n",
    "    def __init__(self):\n",
    "        pass\n",
    "    \n",
    "    def insertion_sort(self, A):\n",
    "        \n",
    "        '''\n",
    "        Sort an Array using Insertion Sort.\n",
    "        \n",
    "        Args:\n",
    "            - A(list) - A sequence of integers to be sorted.\n",
    "            \n",
    "        Returns:\n",
    "            - A(list) - An ordered sequence.\n",
    "        '''\n",
    "        # Raise error if A is not a list\n",
    "        if isinstance(A, list) == False:\n",
    "            raise TypeError('The input has to be a list!!!')\n",
    "        else:\n",
    "            self.A = A\n",
    "        \n",
    "        # Iterate through the array, starting from the third item\n",
    "        for j in range(2, len(A)):\n",
    "            \n",
    "            # i is always one index lower than j\n",
    "            # So A[j] will always be bigger than A[i], IF the array is sorted.\n",
    "            key = A[j]\n",
    "            i = j - 1\n",
    "            \n",
    "            # go though the array, and while A[i] is bigger than A[j], move A[i] one spot to the left.\n",
    "            # Keep doing it until A[j] is bigger than A[i]\n",
    "            while i > 0 and A[i] > key:\n",
    "                A[i + 1] = A[i]\n",
    "                i = i - 1\n",
    "                \n",
    "            # Set A[i] to be the index after A[j](i.e skip the part of the array that we already sorted).    \n",
    "            A[i + 1] = key\n",
    "            \n",
    "        return A"
   ]
  },
  {
   "cell_type": "code",
   "execution_count": 12,
   "id": "3ecae6d5-fa21-4dce-8458-9f3973fa46c8",
   "metadata": {},
   "outputs": [],
   "source": [
    "algos = my_algorithms()"
   ]
  },
  {
   "cell_type": "code",
   "execution_count": 13,
   "id": "79254d96-a79f-4eb5-90c0-d2cdca870ac4",
   "metadata": {},
   "outputs": [
    {
     "data": {
      "text/plain": [
       "[1, 3, 4, 5, 5, 6, 8, 25, 34, 35, 43, 67, 78, 87]"
      ]
     },
     "execution_count": 13,
     "metadata": {},
     "output_type": "execute_result"
    }
   ],
   "source": [
    "algos.insertion_sort([1,5,34,35,87,25,6,78,43,3,5,67,8,4])"
   ]
  },
  {
   "cell_type": "markdown",
   "id": "16df1869-c19e-43a0-85a7-01d9a3d2c59c",
   "metadata": {},
   "source": [
    "# Binary Search"
   ]
  },
  {
   "cell_type": "markdown",
   "id": "f6efde71-55b6-4e0a-bcf1-452cff93620d",
   "metadata": {},
   "source": [
    "## template 1"
   ]
  },
  {
   "cell_type": "code",
   "execution_count": null,
   "id": "995283c6-0919-419a-8d6b-8dc1896dc0ef",
   "metadata": {},
   "outputs": [],
   "source": [
    "def binarySearch(nums, target):\n",
    "    \"\"\"\n",
    "    :type nums: List[int]\n",
    "    :type target: int\n",
    "    :rtype: int\n",
    "    \"\"\"\n",
    "    if len(nums) == 0:\n",
    "        return -1\n",
    "\n",
    "    left, right = 0, len(nums) - 1\n",
    "    while left <= right:\n",
    "        mid = (left + right) // 2\n",
    "        if nums[mid] == target:\n",
    "            return mid\n",
    "        elif nums[mid] < target:\n",
    "            left = mid + 1\n",
    "        else:\n",
    "            right = mid - 1\n",
    "\n",
    "    # End Condition: left > right\n",
    "    return -1"
   ]
  },
  {
   "cell_type": "markdown",
   "id": "190d374e-bd0b-4e6b-9b0d-3dff07124afa",
   "metadata": {},
   "source": [
    "Template #1 is the most basic and elementary form of Binary Search. It is the standard Binary Search Template that most high schools or universities use when they first teach students computer science. \n",
    "\n",
    "Template #1 is used to search for an element or condition which can be determined by *accessing a single index* in the array."
   ]
  },
  {
   "cell_type": "markdown",
   "id": "dbaa8569-4b5b-4840-8a09-58d753581161",
   "metadata": {},
   "source": [
    "## template 2"
   ]
  },
  {
   "cell_type": "code",
   "execution_count": null,
   "id": "9f431ea9-1202-4baa-92a9-efbf091118ee",
   "metadata": {},
   "outputs": [],
   "source": [
    "def binarySearch(nums, target):\n",
    "    \"\"\"\n",
    "    :type nums: List[int]\n",
    "    :type target: int\n",
    "    :rtype: int\n",
    "    \"\"\"\n",
    "    if len(nums) == 0:\n",
    "        return -1\n",
    "\n",
    "    left, right = 0, len(nums)\n",
    "    while left < right:\n",
    "        mid = (left + right) // 2\n",
    "        if nums[mid] == target:\n",
    "            return mid\n",
    "        elif nums[mid] < target:\n",
    "            left = mid + 1\n",
    "        else:\n",
    "            right = mid\n",
    "\n",
    "    # Post-processing:\n",
    "    # End Condition: left == right\n",
    "    if left != len(nums) and nums[left] == target:\n",
    "        return left\n",
    "    return -1"
   ]
  },
  {
   "cell_type": "markdown",
   "id": "f2c6c5df-57b4-4870-8647-7623ec0cd60b",
   "metadata": {},
   "source": [
    "Template #2 is an advanced form of Binary Search. It is used to search for an element or condition which requires *accessing the current index and its immediate right neighbor's index* in the array."
   ]
  },
  {
   "cell_type": "code",
   "execution_count": 14,
   "id": "a56a5b8f-16fb-4e92-9041-d02054c50ff3",
   "metadata": {},
   "outputs": [],
   "source": [
    "class my_algorithms:\n",
    "    \n",
    "    def __init__(self):\n",
    "        pass\n",
    "    \n",
    "    def insertion_sort(self, A):\n",
    "        \n",
    "        '''\n",
    "        Sort an Array using Insertion Sort.\n",
    "        \n",
    "        Args:\n",
    "            - A(list) - A sequence of integers to be sorted.\n",
    "            \n",
    "        Returns:\n",
    "            - A(list) - An ordered sequence.\n",
    "        '''\n",
    "        # Raise error if A is not a list\n",
    "        if isinstance(A, list) == False:\n",
    "            raise TypeError('The input has to be a list!!!')\n",
    "        else:\n",
    "            self.A = A\n",
    "        \n",
    "        # Iterate through the array, starting from the third item\n",
    "        for j in range(2, len(A)):\n",
    "            \n",
    "            # i is always one index lower than j\n",
    "            # So A[j] will always be bigger than A[i], IF the array is sorted.\n",
    "            key = A[j]\n",
    "            i = j - 1\n",
    "            \n",
    "            # go though the array, and while A[i] is bigger than A[j], move A[i] one spot to the left.\n",
    "            # Keep doing it until A[j] is bigger than A[i]\n",
    "            while i > 0 and A[i] > key:\n",
    "                A[i + 1] = A[i]\n",
    "                i = i - 1\n",
    "                \n",
    "            # Set A[i] to be the index after A[j](i.e skip the part of the array that we already sorted).    \n",
    "            A[i + 1] = key\n",
    "            \n",
    "        return A\n",
    "    \n",
    "    \n",
    "    def insertion_sort_desc(self, a):\n",
    "        \n",
    "        self.a = a\n",
    "  \n",
    "        # traversing the array from 1 to length of array(a)\n",
    "        for i in range(1, len(self.a)):\n",
    "\n",
    "            temp = self.a[i]\n",
    "\n",
    "            # Shift elements of array[0 to i-1], that are\n",
    "            # greater than temp, to one position ahead\n",
    "            # of their current position\n",
    "            j = i-1\n",
    "            while j >=0 and temp > self.a[j] :\n",
    "                    self.a[j+1] = self.a[j]\n",
    "                    j -= 1\n",
    "            self.a[j+1] = temp\n",
    "            \n",
    "        return self.a\n",
    "    \n",
    "    def binarySearch(self, nums, target):\n",
    "        \n",
    "        self.nums = nums\n",
    "        self.target = target\n",
    "        \n",
    "        \"\"\"\n",
    "        :type nums: List[int] -- Must be sorted from left to right\n",
    "        :type target: int\n",
    "        :rtype: int\n",
    "        \"\"\"\n",
    "        if len(self.nums) == 0:\n",
    "            return -1\n",
    "\n",
    "        left, right = 0, len(self.nums) - 1\n",
    "        while left <= right:\n",
    "            mid = (left + right) // 2\n",
    "            if self.nums[mid] == self.target:\n",
    "                return mid\n",
    "            elif self.nums[mid] < self.target:\n",
    "                left = mid + 1\n",
    "            else:\n",
    "                right = mid - 1\n",
    "\n",
    "        # End Condition: left > right\n",
    "        return -1\n",
    "\n",
    "    def binarySearch_temp2(self, nums, target):\n",
    "\n",
    "            self.nums = nums\n",
    "            self.target = target\n",
    "\n",
    "            \"\"\"\n",
    "            :type nums: List[int] -- Must be sorted\n",
    "            :type target: int\n",
    "            :rtype: int\n",
    "            \"\"\"\n",
    "            if len(self.nums) == 0:\n",
    "                return -1\n",
    "\n",
    "            left, right = 0, len(self.nums)\n",
    "            while left < right:\n",
    "                mid = (left + right) // 2\n",
    "                if self.nums[mid] == self.target:\n",
    "                    return mid\n",
    "                elif self.nums[mid] < self.target:\n",
    "                    left = mid + 1\n",
    "                else:\n",
    "                    right = mid\n",
    "\n",
    "            # Post-processing:\n",
    "            # End Condition: left == right\n",
    "            if left != len(self.nums) and nums[left] == self.target:\n",
    "                return left\n",
    "            return -1    \n",
    "    \n",
    "\n",
    "        "
   ]
  },
  {
   "cell_type": "code",
   "execution_count": 15,
   "id": "511e4547-5d9a-4b4c-a4b7-d497e2acf555",
   "metadata": {},
   "outputs": [],
   "source": [
    "algos = my_algorithms() "
   ]
  },
  {
   "cell_type": "code",
   "execution_count": 16,
   "id": "0335dc0b-4c05-4c15-9a67-9d71dbdc7d00",
   "metadata": {},
   "outputs": [
    {
     "data": {
      "text/plain": [
       "1"
      ]
     },
     "execution_count": 16,
     "metadata": {},
     "output_type": "execute_result"
    }
   ],
   "source": [
    "algos.binarySearch([3,4,5,6], 4)"
   ]
  },
  {
   "cell_type": "code",
   "execution_count": 17,
   "id": "04242139-e171-4ed0-a6bc-f2602952cfb4",
   "metadata": {},
   "outputs": [
    {
     "data": {
      "text/plain": [
       "2"
      ]
     },
     "execution_count": 17,
     "metadata": {},
     "output_type": "execute_result"
    }
   ],
   "source": [
    "algos.binarySearch_temp2([6,5,4,3], 4)"
   ]
  },
  {
   "cell_type": "code",
   "execution_count": 18,
   "id": "9488dbc0-f4b8-411f-a887-92c12e519caa",
   "metadata": {},
   "outputs": [
    {
     "data": {
      "text/plain": [
       "[8, 6, 6, 4, 2, 2, 1]"
      ]
     },
     "execution_count": 18,
     "metadata": {},
     "output_type": "execute_result"
    }
   ],
   "source": [
    "algos.insertion_sort_desc([2,4,6,2,1,6,8])"
   ]
  },
  {
   "cell_type": "markdown",
   "id": "37586a14-29b9-4330-b957-68273b5233c9",
   "metadata": {},
   "source": [
    "# Stack Class"
   ]
  },
  {
   "cell_type": "code",
   "execution_count": 19,
   "id": "535f9909-9d10-4823-b2bc-b0e8ffb814c6",
   "metadata": {},
   "outputs": [
    {
     "name": "stdout",
     "output_type": "stream",
     "text": [
      "[]\n",
      "True\n",
      "[3]\n",
      "[3, 7]\n",
      "[3, 7, 5]\n",
      "5\n",
      "[3, 7]\n",
      "7\n",
      "2\n"
     ]
    }
   ],
   "source": [
    "class Stack:\n",
    "    \n",
    "    def __init__(self):\n",
    "        self.items = []\n",
    "        \n",
    "    def is_empty(self):\n",
    "        return not self.items\n",
    "    \n",
    "    def push(self, item):\n",
    "        self.items.append(item)\n",
    "        \n",
    "    def pop(self):\n",
    "        return self.items.pop()\n",
    "        \n",
    "    def peek(self):\n",
    "        '''\n",
    "        Return the last item in the stack\n",
    "        '''\n",
    "        return self.items[-1]\n",
    "    \n",
    "    def size(self):\n",
    "        return len(self.items)\n",
    "    \n",
    "    def __str__(self):\n",
    "        return str(self.items)\n",
    "    \n",
    "if __name__ == '__main__':\n",
    "    s = Stack()\n",
    "    print(s)\n",
    "    print(s.is_empty())\n",
    "    s.push(3)\n",
    "    print(s)\n",
    "    s.push(7)\n",
    "    print(s)\n",
    "    s.push(5)\n",
    "    print(s)\n",
    "    print(s.pop())\n",
    "    print(s)\n",
    "    print(s.peek())\n",
    "    print(s.size())"
   ]
  },
  {
   "cell_type": "markdown",
   "id": "82cdd945-dc90-4b29-bb43-a33a17216e34",
   "metadata": {},
   "source": [
    "## Reverse a String"
   ]
  },
  {
   "cell_type": "code",
   "execution_count": 20,
   "id": "04bb1e45-10e8-4c93-b396-98d7e537e056",
   "metadata": {},
   "outputs": [
    {
     "name": "stdout",
     "output_type": "stream",
     "text": [
      "Learn a lot with LinkedIn Learning\n"
     ]
    }
   ],
   "source": [
    "s = Stack()\n",
    "string = 'gninraeL nIdekniL htiw tol a nraeL'\n",
    "reversed_string = ''\n",
    "\n",
    "for i in string:\n",
    "    s.push(i)\n",
    "\n",
    "while s.is_empty() == False:  \n",
    "    reversed_string += s.pop()\n",
    "\n",
    "print(reversed_string)"
   ]
  },
  {
   "cell_type": "markdown",
   "id": "5dbb4eb0",
   "metadata": {},
   "source": [
    "# Queue Class"
   ]
  },
  {
   "cell_type": "code",
   "execution_count": 28,
   "id": "e374fb6b",
   "metadata": {},
   "outputs": [
    {
     "name": "stdout",
     "output_type": "stream",
     "text": [
      "deque([])\n",
      "True\n",
      "deque(['A', 'B', 'C', 'D'])\n",
      "False\n",
      "deque(['C', 'D'])\n",
      "C\n",
      "2\n"
     ]
    }
   ],
   "source": [
    "from collections import deque\n",
    "\n",
    "class Queue:\n",
    "    \n",
    "    def __init__(self):\n",
    "        self.items = deque()\n",
    "        \n",
    "    def is_empty(self):\n",
    "        return len(self.items) == 0\n",
    "    \n",
    "    def enqueue(self, item):\n",
    "        self.items.append(item)\n",
    "        \n",
    "    def dequeue(self):\n",
    "        return self.items.popleft()\n",
    "    \n",
    "    def size(self):\n",
    "        return len(self.items)\n",
    "    \n",
    "    def peek(self):\n",
    "        return self.items[0]\n",
    "    \n",
    "    def __str__(self):\n",
    "        return str(self.items)\n",
    "    \n",
    "if __name__ == '__main__':\n",
    "    q = Queue()\n",
    "    \n",
    "    print(q)\n",
    "    print(q.is_empty())\n",
    "    q.enqueue('A')\n",
    "    q.enqueue('B')\n",
    "    q.enqueue('C')\n",
    "    q.enqueue('D')\n",
    "    print(q)\n",
    "    print(q.is_empty())\n",
    "    q.dequeue()\n",
    "    q.dequeue()\n",
    "    print(q)\n",
    "    print(q.peek())\n",
    "    print(q.size())\n"
   ]
  },
  {
   "cell_type": "markdown",
   "id": "9f72905a",
   "metadata": {},
   "source": [
    "# Priority Queue"
   ]
  },
  {
   "cell_type": "code",
   "execution_count": 37,
   "id": "5e86f13a",
   "metadata": {},
   "outputs": [
    {
     "name": "stdout",
     "output_type": "stream",
     "text": [
      "[]\n",
      "True\n",
      "[(1, 'code'), (2, 'eat'), (3, 'sleep')]\n",
      "code\n",
      "eat\n",
      "sleep\n"
     ]
    }
   ],
   "source": [
    "import heapq\n",
    "\n",
    "class PriorityQueue:\n",
    "    \n",
    "    def __init__(self):\n",
    "        self.elements = []\n",
    "        \n",
    "    def is_empty(self):\n",
    "        return len(self.elements) == 0\n",
    "    \n",
    "    def put(self, item, priority):\n",
    "        heapq.heappush(self.elements, (priority, item))\n",
    "        \n",
    "    def get(self):\n",
    "        return heapq.heappop(self.elements)[1]\n",
    "    \n",
    "    def __str__(self):\n",
    "        return str(self.elements)\n",
    "    \n",
    "if __name__ == '__main__':\n",
    "    \n",
    "    p = PriorityQueue()\n",
    "    print(p)\n",
    "    print(p.is_empty())\n",
    "    p.put('eat',2)\n",
    "    p.put('code',1)\n",
    "    p.put('sleep',3)\n",
    "    print(p)\n",
    "    print(p.get())\n",
    "    print(p.get())\n",
    "    print(p.get())"
   ]
  },
  {
   "cell_type": "code",
   "execution_count": null,
   "id": "f0a840a6-13b9-485a-b1bb-0747405ff4d6",
   "metadata": {},
   "outputs": [],
   "source": []
  },
  {
   "cell_type": "code",
   "execution_count": null,
   "id": "be202287-3f48-4e91-a5b8-5c23fd2cbfa1",
   "metadata": {},
   "outputs": [],
   "source": []
  },
  {
   "cell_type": "code",
   "execution_count": null,
   "id": "65cbf549-47e8-4938-86cc-3c77f6b22695",
   "metadata": {},
   "outputs": [],
   "source": []
  },
  {
   "cell_type": "code",
   "execution_count": null,
   "id": "c2f283d2-7cde-4e74-ab02-04e9a1278c19",
   "metadata": {},
   "outputs": [],
   "source": []
  },
  {
   "cell_type": "markdown",
   "id": "81ec1faa",
   "metadata": {},
   "source": [
    "# Linkedin - Algorithmic Thinking - Foundations"
   ]
  },
  {
   "cell_type": "markdown",
   "id": "59682396",
   "metadata": {},
   "source": [
    "## 100 Doors Challenge"
   ]
  },
  {
   "cell_type": "code",
   "execution_count": 78,
   "id": "76aaf80f",
   "metadata": {},
   "outputs": [
    {
     "name": "stdout",
     "output_type": "stream",
     "text": [
      "[1, 4, 9, 16, 25, 36, 49, 64, 81, 100]\n"
     ]
    }
   ],
   "source": [
    "# Beginning\n",
    "doors = [False] * 101\n",
    "\n",
    "# Steps 1 to 100\n",
    "for i in range(1,101): \n",
    "    for j in range(i, 101, i): \n",
    "    \n",
    "        # Toggling each door\n",
    "        \n",
    "        doors[j] = not doors[j]\n",
    "        \n",
    "# Finding the doors that are opened\n",
    "open_list = []\n",
    "for i in range(1,101):\n",
    "    if doors[i] == True:\n",
    "        open_list.append(i)\n",
    "    \n",
    "print(open_list)"
   ]
  },
  {
   "cell_type": "code",
   "execution_count": 85,
   "id": "99c8798d",
   "metadata": {},
   "outputs": [
    {
     "name": "stdout",
     "output_type": "stream",
     "text": [
      "i: 1; j:1; step size: 1. Toggling door number 1.\n",
      "i: 1; j:2; step size: 1. Toggling door number 2.\n",
      "i: 1; j:3; step size: 1. Toggling door number 3.\n",
      "i: 1; j:4; step size: 1. Toggling door number 4.\n",
      "i: 1; j:5; step size: 1. Toggling door number 5.\n",
      "i: 1; j:6; step size: 1. Toggling door number 6.\n",
      "i: 1; j:7; step size: 1. Toggling door number 7.\n",
      "i: 1; j:8; step size: 1. Toggling door number 8.\n",
      "i: 1; j:9; step size: 1. Toggling door number 9.\n",
      "i: 1; j:10; step size: 1. Toggling door number 10.\n",
      "i: 2; j:2; step size: 2. Toggling door number 2.\n",
      "i: 2; j:4; step size: 2. Toggling door number 4.\n",
      "i: 2; j:6; step size: 2. Toggling door number 6.\n",
      "i: 2; j:8; step size: 2. Toggling door number 8.\n",
      "i: 2; j:10; step size: 2. Toggling door number 10.\n",
      "i: 3; j:3; step size: 3. Toggling door number 3.\n",
      "i: 3; j:6; step size: 3. Toggling door number 6.\n",
      "i: 3; j:9; step size: 3. Toggling door number 9.\n",
      "i: 4; j:4; step size: 4. Toggling door number 4.\n",
      "i: 4; j:8; step size: 4. Toggling door number 8.\n",
      "i: 5; j:5; step size: 5. Toggling door number 5.\n",
      "i: 5; j:10; step size: 5. Toggling door number 10.\n",
      "i: 6; j:6; step size: 6. Toggling door number 6.\n",
      "i: 7; j:7; step size: 7. Toggling door number 7.\n",
      "i: 8; j:8; step size: 8. Toggling door number 8.\n",
      "i: 9; j:9; step size: 9. Toggling door number 9.\n",
      "i: 10; j:10; step size: 10. Toggling door number 10.\n",
      "Algorithm has finished.\n",
      "Door number 1 remains open.\n",
      "Door number 4 remains open.\n",
      "Door number 9 remains open.\n"
     ]
    }
   ],
   "source": [
    "doors = [False] * 11  # So we can start at door 1. We will ignore index 0\n",
    "\n",
    "for i in range(1, 11):\n",
    "    # For the second pass, i = 2, so we start at door 2, for the 3rd pass we start at door 3 etc.\n",
    "    for j in range(i, 11, i):\n",
    "        print(f\"i: {i}; j:{j}; step size: {i}. Toggling door number {j}.\")\n",
    "        doors[j] = not doors[j]  # Using `not` to invert the Boolean value\n",
    "\n",
    "# Print out just the positions of the open doors\n",
    "print(\"Algorithm has finished.\")\n",
    "for i in range(1, 11):\n",
    "    if doors[i] is True:  # Or just if doors[i]:\n",
    "        print(f\"Door number {i} remains open.\")"
   ]
  },
  {
   "cell_type": "markdown",
   "id": "cfb411c2",
   "metadata": {},
   "source": [
    "## FizzBuzz"
   ]
  },
  {
   "cell_type": "code",
   "execution_count": 84,
   "id": "7e37ff09",
   "metadata": {},
   "outputs": [
    {
     "name": "stdout",
     "output_type": "stream",
     "text": [
      "1\n",
      "2\n",
      "buzz\n",
      "4\n",
      "fizz,buzz\n",
      "buzz\n",
      "7\n",
      "8\n",
      "buzz\n",
      "fizz,buzz\n",
      "11\n",
      "buzz\n",
      "13\n",
      "14\n",
      "Fizz\n",
      "16\n",
      "17\n",
      "buzz\n",
      "19\n",
      "fizz,buzz\n",
      "buzz\n",
      "22\n",
      "23\n",
      "buzz\n",
      "fizz,buzz\n",
      "26\n",
      "buzz\n",
      "28\n",
      "29\n",
      "Fizz\n",
      "31\n",
      "32\n",
      "buzz\n",
      "34\n",
      "fizz,buzz\n",
      "buzz\n",
      "37\n",
      "38\n",
      "buzz\n",
      "fizz,buzz\n",
      "41\n",
      "buzz\n",
      "43\n",
      "44\n",
      "Fizz\n",
      "46\n",
      "47\n",
      "buzz\n",
      "49\n",
      "fizz,buzz\n",
      "buzz\n",
      "52\n",
      "53\n",
      "buzz\n",
      "fizz,buzz\n",
      "56\n",
      "buzz\n",
      "58\n",
      "59\n",
      "Fizz\n",
      "61\n",
      "62\n",
      "buzz\n",
      "64\n",
      "fizz,buzz\n",
      "buzz\n",
      "67\n",
      "68\n",
      "buzz\n",
      "fizz,buzz\n",
      "71\n",
      "buzz\n",
      "73\n",
      "74\n",
      "Fizz\n",
      "76\n",
      "77\n",
      "buzz\n",
      "79\n",
      "fizz,buzz\n",
      "buzz\n",
      "82\n",
      "83\n",
      "buzz\n",
      "fizz,buzz\n",
      "86\n",
      "buzz\n",
      "88\n",
      "89\n",
      "Fizz\n",
      "91\n",
      "92\n",
      "buzz\n",
      "94\n",
      "fizz,buzz\n",
      "buzz\n",
      "97\n",
      "98\n",
      "buzz\n",
      "fizz,buzz\n"
     ]
    }
   ],
   "source": [
    "for i in range(1,101):\n",
    "       \n",
    "    if i % 3 == 0 and i % 5 == 0:\n",
    "        print('Fizz')\n",
    "        \n",
    "    elif i % 3 == 0:\n",
    "        print('buzz')\n",
    "        \n",
    "    elif i % 5 == 0:\n",
    "        print('fizz,buzz')\n",
    "    else:\n",
    "        print(i)"
   ]
  },
  {
   "cell_type": "markdown",
   "id": "c4eec30b",
   "metadata": {},
   "source": [
    "## Linear Search"
   ]
  },
  {
   "cell_type": "code",
   "execution_count": 1,
   "id": "bfc7cc58",
   "metadata": {},
   "outputs": [
    {
     "data": {
      "text/plain": [
       "1"
      ]
     },
     "execution_count": 1,
     "metadata": {},
     "output_type": "execute_result"
    }
   ],
   "source": [
    "from Algorithms_Helper import my_algorithms\n",
    "\n",
    "\n",
    "data = [4,5,2,7,1,8]\n",
    "target = 1\n",
    "algos = my_algorithms()\n",
    "algos.linear_search(data,target)"
   ]
  },
  {
   "cell_type": "markdown",
   "id": "35d22a20",
   "metadata": {},
   "source": [
    "## Find Min Value"
   ]
  },
  {
   "cell_type": "code",
   "execution_count": 28,
   "id": "8dd2d2df",
   "metadata": {},
   "outputs": [],
   "source": [
    "data = [3,2,1,4,5,0]\n",
    "\n",
    "min_index = data[0]\n",
    "\n",
    "for i in range(len(data)):\n",
    "\n",
    "    if data[i] < min_index:\n",
    "        min_index = data[i]\n"
   ]
  },
  {
   "cell_type": "code",
   "execution_count": 29,
   "id": "23c4e958",
   "metadata": {},
   "outputs": [
    {
     "data": {
      "text/plain": [
       "0"
      ]
     },
     "execution_count": 29,
     "metadata": {},
     "output_type": "execute_result"
    }
   ],
   "source": [
    "min_index"
   ]
  },
  {
   "cell_type": "code",
   "execution_count": 33,
   "id": "23382629",
   "metadata": {},
   "outputs": [],
   "source": [
    "from Algorithms_Helper import my_algorithms\n",
    "\n",
    "algos = my_algorithms()\n"
   ]
  },
  {
   "cell_type": "code",
   "execution_count": 34,
   "id": "36a14654",
   "metadata": {},
   "outputs": [
    {
     "ename": "AttributeError",
     "evalue": "'my_algorithms' object has no attribute 'find_min_value'",
     "output_type": "error",
     "traceback": [
      "\u001b[0;31m---------------------------------------------------------------------------\u001b[0m",
      "\u001b[0;31mAttributeError\u001b[0m                            Traceback (most recent call last)",
      "Cell \u001b[0;32mIn [34], line 1\u001b[0m\n\u001b[0;32m----> 1\u001b[0m algos\u001b[39m.\u001b[39;49mfind_min_value([\u001b[39m1\u001b[39m,\u001b[39m2\u001b[39m,\u001b[39m3\u001b[39m,\u001b[39m4\u001b[39m])\n",
      "\u001b[0;31mAttributeError\u001b[0m: 'my_algorithms' object has no attribute 'find_min_value'"
     ]
    }
   ],
   "source": [
    "algos.find_min_value([1,2,3,4])"
   ]
  },
  {
   "cell_type": "code",
   "execution_count": null,
   "id": "723a4890",
   "metadata": {},
   "outputs": [],
   "source": []
  },
  {
   "cell_type": "markdown",
   "id": "ce98bf95-a5cf-4e15-8fa5-f04985e29349",
   "metadata": {},
   "source": [
    "# LeetCode Questions"
   ]
  },
  {
   "cell_type": "markdown",
   "id": "d6253574-3c46-4619-920c-8decdae12b42",
   "metadata": {},
   "source": [
    "- Do the questions from this file:\n",
    "    https://docs.google.com/spreadsheets/d/1GOO4s1NcxCR8a44F0XnsErz5rYDxNbHAHznu4pJMRkw/edit#gid=0\n",
    "- and here:\n",
    "    https://docs.google.com/spreadsheets/d/1A2PaQKcdwO_lwxz9bAnxXnIQayCouZP6d-ENrBz_NXc/edit#gid=0"
   ]
  },
  {
   "cell_type": "code",
   "execution_count": null,
   "id": "e4beec31",
   "metadata": {},
   "outputs": [],
   "source": []
  },
  {
   "cell_type": "code",
   "execution_count": null,
   "id": "e954f1cf",
   "metadata": {},
   "outputs": [],
   "source": []
  },
  {
   "cell_type": "code",
   "execution_count": null,
   "id": "5e55325a",
   "metadata": {},
   "outputs": [],
   "source": []
  },
  {
   "cell_type": "code",
   "execution_count": null,
   "id": "71a53a9a",
   "metadata": {},
   "outputs": [],
   "source": []
  },
  {
   "cell_type": "markdown",
   "id": "70a82a7a-aecf-4e30-a7c9-bc3080a0f74c",
   "metadata": {},
   "source": [
    "## Rank Score"
   ]
  },
  {
   "cell_type": "markdown",
   "id": "e6faf044-c362-4748-82a2-71eeb931c20c",
   "metadata": {},
   "source": [
    "Write an SQL query to rank the scores. "
   ]
  },
  {
   "cell_type": "code",
   "execution_count": 17,
   "id": "cecfd9ac-eb73-4cc0-89aa-11f795221d31",
   "metadata": {},
   "outputs": [
    {
     "ename": "ModuleNotFoundError",
     "evalue": "No module named 'pandas'",
     "output_type": "error",
     "traceback": [
      "\u001b[0;31m---------------------------------------------------------------------------\u001b[0m",
      "\u001b[0;31mModuleNotFoundError\u001b[0m                       Traceback (most recent call last)",
      "Cell \u001b[0;32mIn [17], line 1\u001b[0m\n\u001b[0;32m----> 1\u001b[0m \u001b[39mimport\u001b[39;00m \u001b[39mpandas\u001b[39;00m \u001b[39mas\u001b[39;00m \u001b[39mpd\u001b[39;00m\n\u001b[1;32m      2\u001b[0m df \u001b[39m=\u001b[39m pd\u001b[39m.\u001b[39mread_csv(\u001b[39m'\u001b[39m\u001b[39mscores.csv\u001b[39m\u001b[39m'\u001b[39m)\n\u001b[1;32m      3\u001b[0m nums \u001b[39m=\u001b[39m df\u001b[39m.\u001b[39mscore\u001b[39m.\u001b[39mto_list()\n",
      "\u001b[0;31mModuleNotFoundError\u001b[0m: No module named 'pandas'"
     ]
    }
   ],
   "source": [
    "import pandas as pd\n",
    "df = pd.read_csv('scores.csv')\n",
    "nums = df.score.to_list()\n",
    "nums"
   ]
  },
  {
   "cell_type": "code",
   "execution_count": null,
   "id": "a46bced2",
   "metadata": {},
   "outputs": [],
   "source": []
  },
  {
   "cell_type": "code",
   "execution_count": null,
   "id": "27e0b9fd",
   "metadata": {},
   "outputs": [],
   "source": []
  },
  {
   "cell_type": "code",
   "execution_count": null,
   "id": "a3b14b2c",
   "metadata": {},
   "outputs": [],
   "source": []
  },
  {
   "cell_type": "markdown",
   "id": "28a31d1b-84d6-417f-8d9d-26d30621d2fb",
   "metadata": {},
   "source": [
    "## Nth_highest_Number"
   ]
  },
  {
   "cell_type": "markdown",
   "id": "045f78a1-d5ad-430f-863a-fec528ab9e0e",
   "metadata": {},
   "source": [
    "Write an SQL query to report the nth highest salary from the Employee table. If there is no nth highest salary, the query should report null."
   ]
  },
  {
   "cell_type": "code",
   "execution_count": null,
   "id": "d0ca8a96-d2b1-4d55-ab37-8dc45abcf6d4",
   "metadata": {},
   "outputs": [],
   "source": [
    "def nth_highest_number(nums, n):\n",
    "    n = n - 1\n",
    "    \n",
    "    # Insertion sort \n",
    "    for i in range(1, len(nums)):\n",
    "\n",
    "        temp = nums[i]\n",
    "        j = i - 1\n",
    "\n",
    "        while j>=0 and temp > nums[j]:\n",
    "            nums[j+1] = nums[j]\n",
    "            j -= 1\n",
    "        nums[j+1] = temp\n",
    "\n",
    "    return nums[n]"
   ]
  },
  {
   "cell_type": "code",
   "execution_count": null,
   "id": "bd1b5399-3517-4b3a-9dcf-5c029b68f923",
   "metadata": {},
   "outputs": [
    {
     "data": {
      "text/plain": [
       "6"
      ]
     },
     "execution_count": 28,
     "metadata": {},
     "output_type": "execute_result"
    }
   ],
   "source": [
    "nth_highest_number([3,4,6,7,2,1,487,5,4], 3)"
   ]
  },
  {
   "cell_type": "markdown",
   "id": "0370962f-aa61-4ab8-81c9-309431a028e6",
   "metadata": {},
   "source": [
    "## Two sum\n",
    " \n",
    "https://leetcode.com/problems/two-sum/\n",
    "\n",
    "Given an array of integers nums and an integer target, return indices of the two numbers such that they add up to target.\n",
    "\n",
    "You may assume that each input would have exactly one solution, and you may not use the same element twice.\n",
    "\n",
    "You can return the answer in any order."
   ]
  },
  {
   "cell_type": "code",
   "execution_count": null,
   "id": "db08215e-713b-4f1b-b865-4ffd1c273d1e",
   "metadata": {},
   "outputs": [],
   "source": [
    "class leetcode:\n",
    "    \n",
    "    def __init__(self):\n",
    "        pass\n",
    "    \n",
    "    def two_sum_brute_force(self, nums, target):\n",
    "\n",
    "        self.nums = nums\n",
    "        self.target = target\n",
    "        \n",
    "        print('Brute Force Solution')\n",
    "        print('\\nIterating thorugh all of the array untill finding the result')\n",
    "\n",
    "        \n",
    "        if target == 0:\n",
    "            result = 1\n",
    "        else:\n",
    "            result = 0\n",
    "            \n",
    "        counter_for = 0\n",
    "        counter_while = 0\n",
    "        for j in range(0, len(nums) - 1):\n",
    "            \n",
    "            print('\\niter #{}'.format(counter_for ))\n",
    "            \n",
    "            i = j + 1 # i = 1\n",
    "            previous_number = nums[j] # 3\n",
    "            \n",
    "            print('i = {}, j = {}, previous_number = {}'.format(i, j, previous_number ))\n",
    "\n",
    "            \n",
    "            while result != target and i < len(nums):\n",
    "                print('\\nStarting while loop number {}'.format(counter_while))\n",
    "                current_number = nums[i] # 3\n",
    "                result = previous_number + current_number # 5\n",
    "                print('current_number = {}, result = {} + {} = {}'.format(current_number, current_number, previous_number, result))\n",
    "                \n",
    "                i = i + 1 # 2\n",
    "                counter_while += 1\n",
    "                \n",
    "                \n",
    "            if result == target:\n",
    "                print('\\nFound it!!!')\n",
    "                return [j, i - 1]\n",
    "            \n",
    "            counter_for += 1\n",
    "        return [j, i]\n",
    "    \n",
    "    \n",
    "    \n",
    "    def two_sum_improved(self, nums, target):\n",
    "\n",
    "        self.nums = nums\n",
    "        self.target = target\n",
    "\n",
    "        print('Improved Brute Force Solution')\n",
    "        print('Ordering the array first and stop the search once the result is already bigger than target')\n",
    "        sorted_nums = sorted(nums)\n",
    "\n",
    "        if target == 0:\n",
    "            result = 1\n",
    "        else:\n",
    "            result = 0\n",
    "            \n",
    "        if len(nums) == 2:\n",
    "            return [0,1]\n",
    "\n",
    "        counter_for = 0\n",
    "        counter_while = 0\n",
    "        for j in range(0, len(sorted_nums) - 1):\n",
    "\n",
    "            print('\\niter #{}'.format(counter_for ))\n",
    "\n",
    "            i = j + 1 # i = 1\n",
    "            previous_number = sorted_nums[j] # 3\n",
    "\n",
    "            print('i = {}, j = {}, previous_number = {}'.format(i, j, previous_number ))\n",
    "\n",
    "\n",
    "            while result < target and i < len(sorted_nums):\n",
    "                print('\\nStarting while loop number {}'.format(counter_while))\n",
    "                current_number = sorted_nums[i] # 3\n",
    "                result = previous_number + current_number # 5\n",
    "                print('current_number = {}, result = {} + {} = {}'.format(current_number, current_number, previous_number, result))\n",
    "\n",
    "                i = i + 1 # 2\n",
    "                counter_while += 1\n",
    "\n",
    "\n",
    "            if result == target:\n",
    "                print('\\nFound it!!!')\n",
    "                original_i = nums.index(current_number)\n",
    "                original_j = nums.index(previous_number)\n",
    "                return [original_j, original_i]\n",
    "\n",
    "            counter_for += 1\n",
    "        original_i = nums.index(current_number)\n",
    "        original_j = nums.index(previous_number)\n",
    "        return [original_j, original_i]\n",
    "    \n",
    "    \n",
    "    \n",
    "    def two_sum_hash_map_with_explanation(self, nums, target):\n",
    "\n",
    "        self.nums = nums\n",
    "        self.target = target\n",
    "        \n",
    "        # Create a hashmap(a list of all the values in the array and their location)\n",
    "        hashmap = {}\n",
    "        counter = 0\n",
    "        \n",
    "        print('Building HashMap...')\n",
    "        for i in range(len(nums)):\n",
    "            hashmap[nums[i]] = i            \n",
    "        \n",
    "        # Calculating the difference between the target and each number in the array\n",
    "        print('\\nHashMap: {}'.format(hashmap))\n",
    "        print('The target is: {}'.format(target))\n",
    "        for i in range(len(nums)):\n",
    "            print('\\niter #{}'.format(counter))\n",
    "              \n",
    "            complement = target - nums[i]\n",
    "            print('Current Number is: {}'.format(nums[i]))\n",
    "            print()\n",
    "            print('Difference between target and current number is: {} - {} = {}'.format(target, nums[i],complement))\n",
    "            \n",
    "            # If the difference is in the hashmap and it is not the current number, than we have found the result. \n",
    "            # In that case, return the difference, and the current number\n",
    "            if complement in hashmap and hashmap[complement] != i:\n",
    "                print('complement: {} is in HashMap!!!'.format(complement, hashmap[complement], i))\n",
    "                return [i, hashmap[complement]] \n",
    "            \n",
    "            print('\\n{} is not in the array...moving to the next number'.format(complement))\n",
    "            counter += 1\n",
    "    \n",
    "    def two_sum_hash_map(self, nums, target):\n",
    "\n",
    "        self.nums = nums\n",
    "        self.target = target\n",
    "        \n",
    "        # Create a hashmap(a list of all the values in the array and their location)\n",
    "        hashmap = {}        \n",
    "        for i in range(len(nums)):\n",
    "            hashmap[nums[i]] = i            \n",
    "        \n",
    "        # Calculating the difference between the target and each number in the array\n",
    "        for i in range(len(nums)):     \n",
    "            complement = target - nums[i]\n",
    "\n",
    "            # If the difference is in the hashmap and it is not the current number, than we have found the result. \n",
    "            # In that case, return the difference, and the current number\n",
    "            if complement in hashmap and hashmap[complement] != i:\n",
    "                return [i, hashmap[complement]] \n",
    "    "
   ]
  },
  {
   "cell_type": "code",
   "execution_count": null,
   "id": "ffb391ff-50ff-4a1f-8c87-f18d3662fc06",
   "metadata": {},
   "outputs": [],
   "source": [
    "l = leetcode()"
   ]
  },
  {
   "cell_type": "code",
   "execution_count": null,
   "id": "481da609-4681-451b-9105-b3bfafad664f",
   "metadata": {},
   "outputs": [
    {
     "name": "stdout",
     "output_type": "stream",
     "text": [
      "Brute Force Solution\n",
      "\n",
      "Iterating thorugh all of the array untill finding the result\n",
      "\n",
      "iter #0\n",
      "i = 1, j = 0, previous_number = 3\n",
      "\n",
      "Starting while loop number 0\n",
      "current_number = 2, result = 2 + 3 = 5\n",
      "\n",
      "Starting while loop number 1\n",
      "current_number = 4, result = 4 + 3 = 7\n",
      "\n",
      "iter #1\n",
      "i = 2, j = 1, previous_number = 2\n",
      "\n",
      "Starting while loop number 2\n",
      "current_number = 4, result = 4 + 2 = 6\n",
      "\n",
      "Found it!!!\n"
     ]
    },
    {
     "data": {
      "text/plain": [
       "[1, 2]"
      ]
     },
     "execution_count": 133,
     "metadata": {},
     "output_type": "execute_result"
    }
   ],
   "source": [
    "l.two_sum_brute_force([3,2,4], 6)"
   ]
  },
  {
   "cell_type": "code",
   "execution_count": null,
   "id": "c6d58069-f3c7-4d95-9414-a2cf3dec7113",
   "metadata": {},
   "outputs": [
    {
     "name": "stdout",
     "output_type": "stream",
     "text": [
      "Improved Brute Force Solution\n",
      "Ordering the array first and stop the search once the result is already bigger than target\n",
      "\n",
      "iter #0\n",
      "i = 1, j = 0, previous_number = 2\n",
      "\n",
      "Starting while loop number 0\n",
      "current_number = 3, result = 3 + 2 = 5\n",
      "\n",
      "Starting while loop number 1\n",
      "current_number = 4, result = 4 + 2 = 6\n",
      "\n",
      "Found it!!!\n"
     ]
    },
    {
     "data": {
      "text/plain": [
       "[1, 2]"
      ]
     },
     "execution_count": 134,
     "metadata": {},
     "output_type": "execute_result"
    }
   ],
   "source": [
    "l.two_sum_improved([3,2,4], 6)"
   ]
  },
  {
   "cell_type": "code",
   "execution_count": null,
   "id": "aaa180bd-ab6c-4823-9b34-79c44366fba6",
   "metadata": {},
   "outputs": [
    {
     "name": "stdout",
     "output_type": "stream",
     "text": [
      "Building HashMap...\n",
      "\n",
      "HashMap: {3: 0, 2: 5, 4: 3, 6: 4, 1: 6, 5: 7, 7: 8}\n",
      "The target is: 12\n",
      "\n",
      "iter #0\n",
      "Current Number is: 3\n",
      "\n",
      "Difference between target and current number is: 12 - 3 = 9\n",
      "\n",
      "9 is not in the array...moving to the next number\n",
      "\n",
      "iter #1\n",
      "Current Number is: 2\n",
      "\n",
      "Difference between target and current number is: 12 - 2 = 10\n",
      "\n",
      "10 is not in the array...moving to the next number\n",
      "\n",
      "iter #2\n",
      "Current Number is: 4\n",
      "\n",
      "Difference between target and current number is: 12 - 4 = 8\n",
      "\n",
      "8 is not in the array...moving to the next number\n",
      "\n",
      "iter #3\n",
      "Current Number is: 4\n",
      "\n",
      "Difference between target and current number is: 12 - 4 = 8\n",
      "\n",
      "8 is not in the array...moving to the next number\n",
      "\n",
      "iter #4\n",
      "Current Number is: 6\n",
      "\n",
      "Difference between target and current number is: 12 - 6 = 6\n",
      "\n",
      "6 is not in the array...moving to the next number\n",
      "\n",
      "iter #5\n",
      "Current Number is: 2\n",
      "\n",
      "Difference between target and current number is: 12 - 2 = 10\n",
      "\n",
      "10 is not in the array...moving to the next number\n",
      "\n",
      "iter #6\n",
      "Current Number is: 1\n",
      "\n",
      "Difference between target and current number is: 12 - 1 = 11\n",
      "\n",
      "11 is not in the array...moving to the next number\n",
      "\n",
      "iter #7\n",
      "Current Number is: 5\n",
      "\n",
      "Difference between target and current number is: 12 - 5 = 7\n",
      "complement: 7 is in HashMap!!!\n"
     ]
    },
    {
     "data": {
      "text/plain": [
       "[7, 8]"
      ]
     },
     "execution_count": 162,
     "metadata": {},
     "output_type": "execute_result"
    }
   ],
   "source": [
    "l.two_sum_hash_map_with_explanation([3, 2, 4, 4, 6,2, 1,5,7], 12)"
   ]
  },
  {
   "cell_type": "code",
   "execution_count": null,
   "id": "4a584700-eed6-48bf-91e3-a6e706ce031e",
   "metadata": {},
   "outputs": [
    {
     "data": {
      "text/plain": [
       "[7, 8]"
      ]
     },
     "execution_count": 163,
     "metadata": {},
     "output_type": "execute_result"
    }
   ],
   "source": [
    "l.two_sum_hash_map([3, 2, 4, 4, 6,2, 1,5,7], 12)"
   ]
  },
  {
   "cell_type": "markdown",
   "id": "20fedf3f-fc10-44f9-8b2b-736646d19ba5",
   "metadata": {},
   "source": [
    "## Best Time to Buy and Sell Stock"
   ]
  },
  {
   "cell_type": "markdown",
   "id": "0b13e275-4ddb-4377-833f-6459f92bebd8",
   "metadata": {},
   "source": [
    "You are given an array prices where prices[i] is the price of a given stock on the ith day.\n",
    "\n",
    "You want to maximize your profit by choosing a single day to buy one stock and choosing a different day in the future to sell that stock.\n",
    "\n",
    "Return the maximum profit you can achieve from this transaction. If you cannot achieve any profit, return 0."
   ]
  },
  {
   "cell_type": "markdown",
   "id": "21523a61-6bfd-440b-9560-6753b62cad6a",
   "metadata": {},
   "source": [
    "Example 1:\n",
    "\n",
    "- Input: prices = [7,1,5,3,6,4]\n",
    "- Output: 5\n",
    "- Explanation: Buy on day 2 (price = 1) and sell on day 5 (price = 6), profit = 6-1 = 5.\n",
    "- Note that buying on day 2 and selling on day 1 is not allowed because you must buy before you sell.\n"
   ]
  },
  {
   "cell_type": "markdown",
   "id": "4a86901a-ad79-4ae8-91a7-92a6cb92e31c",
   "metadata": {},
   "source": [
    "- __In other words, find the two numbers with the biggest difference, where the first > second.__"
   ]
  },
  {
   "cell_type": "markdown",
   "id": "b3c87398-fcc3-43c4-aaee-0218e9b8ea2d",
   "metadata": {},
   "source": [
    "### Peuedo code"
   ]
  },
  {
   "cell_type": "code",
   "execution_count": null,
   "id": "680ca8d6-0fbf-4f19-b872-030969b202b1",
   "metadata": {},
   "outputs": [],
   "source": [
    "# go through the array using two index: the buying price, and selling price\n",
    "# The selling price will move through array\n",
    "# Each iteration we calculate profit\n",
    "# stay in the loop if the profits increase\n",
    "# if not, exit, and keep the profit in a hashmap/list\n",
    "# At the end of the loop, grab the maximum profit from the hashmap/list\n",
    "\n",
    "\n",
    "\n",
    "profit_dict = dict()\n",
    "profit_list = []\n",
    "\n",
    "- for j in range(0,len(prices)-1) \n",
    "\n",
    "    buy_price = prices[j] \n",
    "    i = j + 1\n",
    "    \n",
    "    \n",
    "    - while buy_price > prices[i] and i < len(prices):\n",
    "        sell_price = prices[i]\n",
    "        profit = buy_price - sell_price # calculate profit\n",
    "        profit_list.append(profit)\n",
    "        i = i + 1\n",
    "        \n",
    "    profit_dict[j] = max(profit_list)\n",
    "        "
   ]
  },
  {
   "cell_type": "code",
   "execution_count": null,
   "id": "6909785f-bf82-4b45-bc54-05b40034b689",
   "metadata": {},
   "outputs": [],
   "source": []
  },
  {
   "cell_type": "code",
   "execution_count": null,
   "id": "2d643a4b-41fd-40eb-8418-d82fcc4d585b",
   "metadata": {},
   "outputs": [],
   "source": [
    "prices = [1,2,4]"
   ]
  },
  {
   "cell_type": "code",
   "execution_count": null,
   "id": "8a177ec6-132c-49a6-8a23-1e88d48cfba5",
   "metadata": {},
   "outputs": [
    {
     "ename": "IndexError",
     "evalue": "list index out of range",
     "output_type": "error",
     "traceback": [
      "\u001b[1;31m---------------------------------------------------------------------------\u001b[0m",
      "\u001b[1;31mIndexError\u001b[0m                                Traceback (most recent call last)",
      "Input \u001b[1;32mIn [118]\u001b[0m, in \u001b[0;36m<cell line: 5>\u001b[1;34m()\u001b[0m\n\u001b[0;32m      7\u001b[0m i \u001b[38;5;241m=\u001b[39m j \u001b[38;5;241m+\u001b[39m \u001b[38;5;241m1\u001b[39m \u001b[38;5;66;03m# i = 2\u001b[39;00m\n\u001b[0;32m      9\u001b[0m profit_dict_temp \u001b[38;5;241m=\u001b[39m \u001b[38;5;28mdict\u001b[39m()\n\u001b[1;32m---> 10\u001b[0m \u001b[38;5;28;01mwhile\u001b[39;00m buy_price \u001b[38;5;241m<\u001b[39m \u001b[43mprices\u001b[49m\u001b[43m[\u001b[49m\u001b[43mi\u001b[49m\u001b[43m]\u001b[49m \u001b[38;5;129;01mand\u001b[39;00m i \u001b[38;5;241m<\u001b[39m \u001b[38;5;28mlen\u001b[39m(prices):\n\u001b[0;32m     11\u001b[0m     sell_price \u001b[38;5;241m=\u001b[39m prices[i] \u001b[38;5;66;03m# sell_price = 8 \u001b[39;00m\n\u001b[0;32m     12\u001b[0m     profit \u001b[38;5;241m=\u001b[39m sell_price \u001b[38;5;241m-\u001b[39m buy_price \u001b[38;5;66;03m# profit = 6\u001b[39;00m\n",
      "\u001b[1;31mIndexError\u001b[0m: list index out of range"
     ]
    }
   ],
   "source": [
    "profit_dict = dict()\n",
    "profit_dict_temp = dict()\n",
    "counter = 0\n",
    "\n",
    "for j in range(0,len(prices)-1) :\n",
    "    buy_price = prices[j] # j = 1, buy_price = 2\n",
    "    i = j + 1 # i = 2\n",
    "             \n",
    "    profit_dict_temp = dict()\n",
    "    while buy_price < prices[i] and i < len(prices):\n",
    "        sell_price = prices[i] # sell_price = 8 \n",
    "        profit = sell_price - buy_price # profit = 6\n",
    "        profit_dict_temp[i] = profit # profit_dict_temp{2:6}\n",
    "        i = i + 1\n",
    "              \n",
    "        \n",
    "    if len(profit_dict_temp) > 0:\n",
    "        profit_dict[j] = max(profit_dict_temp.values())\n",
    "    else:\n",
    "        profit_dict[j] = 0\n",
    "            \n",
    "max_profit = max(profit_dict.values())\n",
    "max_profit"
   ]
  },
  {
   "cell_type": "code",
   "execution_count": null,
   "id": "3578fc49-81b7-4e49-b43c-f12746e6db02",
   "metadata": {},
   "outputs": [
    {
     "data": {
      "text/plain": [
       "{0: 1, 1: 0}"
      ]
     },
     "execution_count": 117,
     "metadata": {},
     "output_type": "execute_result"
    }
   ],
   "source": [
    "profit_dict"
   ]
  },
  {
   "cell_type": "markdown",
   "id": "75b0e9a6-d369-40cd-a1eb-e82095020f31",
   "metadata": {},
   "source": [
    "### Worse Solution (from leetcode) - mine is faster but i cant pass this test: [1,2,4]"
   ]
  },
  {
   "cell_type": "code",
   "execution_count": null,
   "id": "0308dea4-9461-40a7-9064-af2fc9d7aee6",
   "metadata": {},
   "outputs": [],
   "source": [
    "prices = [1,2,4]"
   ]
  },
  {
   "cell_type": "code",
   "execution_count": null,
   "id": "c76db508-27eb-44ef-97f2-71d3d23328f2",
   "metadata": {},
   "outputs": [
    {
     "data": {
      "text/plain": [
       "3"
      ]
     },
     "execution_count": 2,
     "metadata": {},
     "output_type": "execute_result"
    }
   ],
   "source": [
    "max_profit = 0\n",
    "for i in range(len(prices) - 1):\n",
    "    for j in range(i + 1, len(prices)):\n",
    "        profit = prices[j] - prices[i]\n",
    "        if profit > max_profit:\n",
    "            max_profit = profit\n",
    "            \n",
    "max_profit"
   ]
  },
  {
   "cell_type": "code",
   "execution_count": null,
   "id": "bd5a2a76-8fd2-48fa-b77c-46305ed9a8a0",
   "metadata": {},
   "outputs": [],
   "source": [
    "class leetcode:\n",
    "    \n",
    "    def __init__(self):\n",
    "        pass\n",
    "    \n",
    "    \n",
    "    def best_time_buy(self, prices):\n",
    "        \n",
    "        self.prices = prices\n",
    "        \n",
    "        if len(prices) < 2:\n",
    "            return 0\n",
    "        \n",
    "        profit_dict = dict()\n",
    "        profit_dict_temp = dict()\n",
    "        \n",
    "        for j in range(0,len(prices)-1) :\n",
    "            buy_price = prices[j] \n",
    "            i = j + 1\n",
    "            \n",
    "            \n",
    "            profit_dict_temp = dict()\n",
    "            while buy_price < prices[i] and i < len(prices)-1:\n",
    "                sell_price = prices[i]\n",
    "                profit = sell_price - buy_price # calculate profit\n",
    "                profit_dict_temp[i] = profit\n",
    "                i = i + 1\n",
    "\n",
    "            if len(profit_dict_temp) > 0:\n",
    "                profit_dict[j] = max(profit_dict_temp.values())\n",
    "            else:\n",
    "                profit_dict[j] = 0\n",
    "            \n",
    "        return max(profit_dict.values())\n",
    "\n",
    "    \n",
    "    def two_sum_brute_force(self, nums, target):\n",
    "\n",
    "        self.nums = nums\n",
    "        self.target = target\n",
    "        \n",
    "        print('Brute Force Solution')\n",
    "        print('\\nIterating thorugh all of the array untill finding the result')\n",
    "\n",
    "        \n",
    "        if target == 0:\n",
    "            result = 1\n",
    "        else:\n",
    "            result = 0\n",
    "            \n",
    "        counter_for = 0\n",
    "        counter_while = 0\n",
    "        for j in range(0, len(nums) - 1):\n",
    "            \n",
    "            print('\\niter #{}'.format(counter_for ))\n",
    "            \n",
    "            i = j + 1 # i = 1\n",
    "            previous_number = nums[j] # 3\n",
    "            \n",
    "            print('i = {}, j = {}, previous_number = {}'.format(i, j, previous_number ))\n",
    "\n",
    "            \n",
    "            while result != target and i < len(nums):\n",
    "                print('\\nStarting while loop number {}'.format(counter_while))\n",
    "                current_number = nums[i] # 3\n",
    "                result = previous_number + current_number # 5\n",
    "                print('current_number = {}, result = {} + {} = {}'.format(current_number, current_number, previous_number, result))\n",
    "                \n",
    "                i = i + 1 # 2\n",
    "                counter_while += 1\n",
    "                \n",
    "                \n",
    "            if result == target:\n",
    "                print('\\nFound it!!!')\n",
    "                return [j, i - 1]\n",
    "            \n",
    "            counter_for += 1\n",
    "        return [j, i]\n",
    "    \n",
    "    \n",
    "    \n",
    "    def two_sum_improved(self, nums, target):\n",
    "\n",
    "        self.nums = nums\n",
    "        self.target = target\n",
    "\n",
    "        print('Improved Brute Force Solution')\n",
    "        print('Ordering the array first and stop the search once the result is already bigger than target')\n",
    "        sorted_nums = sorted(nums)\n",
    "\n",
    "        if target == 0:\n",
    "            result = 1\n",
    "        else:\n",
    "            result = 0\n",
    "            \n",
    "        if len(nums) == 2:\n",
    "            return [0,1]\n",
    "\n",
    "        counter_for = 0\n",
    "        counter_while = 0\n",
    "        for j in range(0, len(sorted_nums) - 1):\n",
    "\n",
    "            print('\\niter #{}'.format(counter_for ))\n",
    "\n",
    "            i = j + 1 # i = 1\n",
    "            previous_number = sorted_nums[j] # 3\n",
    "\n",
    "            print('i = {}, j = {}, previous_number = {}'.format(i, j, previous_number ))\n",
    "\n",
    "\n",
    "            while result < target and i < len(sorted_nums):\n",
    "                print('\\nStarting while loop number {}'.format(counter_while))\n",
    "                current_number = sorted_nums[i] # 3\n",
    "                result = previous_number + current_number # 5\n",
    "                print('current_number = {}, result = {} + {} = {}'.format(current_number, current_number, previous_number, result))\n",
    "\n",
    "                i = i + 1 # 2\n",
    "                counter_while += 1\n",
    "\n",
    "\n",
    "            if result == target:\n",
    "                print('\\nFound it!!!')\n",
    "                original_i = nums.index(current_number)\n",
    "                original_j = nums.index(previous_number)\n",
    "                return [original_j, original_i]\n",
    "\n",
    "            counter_for += 1\n",
    "        original_i = nums.index(current_number)\n",
    "        original_j = nums.index(previous_number)\n",
    "        return [original_j, original_i]\n",
    "    \n",
    "    \n",
    "    \n",
    "    def two_sum_hash_map_with_explanation(self, nums, target):\n",
    "\n",
    "        self.nums = nums\n",
    "        self.target = target\n",
    "        \n",
    "        # Create a hashmap(a list of all the values in the array and their location)\n",
    "        hashmap = {}\n",
    "        counter = 0\n",
    "        \n",
    "        print('Building HashMap...')\n",
    "        for i in range(len(nums)):\n",
    "            hashmap[nums[i]] = i            \n",
    "        \n",
    "        # Calculating the difference between the target and each number in the array\n",
    "        print('\\nHashMap: {}'.format(hashmap))\n",
    "        print('The target is: {}'.format(target))\n",
    "        for i in range(len(nums)):\n",
    "            print('\\niter #{}'.format(counter))\n",
    "              \n",
    "            complement = target - nums[i]\n",
    "            print('Current Number is: {}'.format(nums[i]))\n",
    "            print()\n",
    "            print('Difference between target and current number is: {} - {} = {}'.format(target, nums[i],complement))\n",
    "            \n",
    "            # If the difference is in the hashmap and it is not the current number, than we have found the result. \n",
    "            # In that case, return the difference, and the current number\n",
    "            if complement in hashmap and hashmap[complement] != i:\n",
    "                print('complement: {} is in HashMap!!!'.format(complement, hashmap[complement], i))\n",
    "                return [i, hashmap[complement]] \n",
    "            \n",
    "            print('\\n{} is not in the array...moving to the next number'.format(complement))\n",
    "            counter += 1\n",
    "    \n",
    "    def two_sum_hash_map(self, nums, target):\n",
    "\n",
    "        self.nums = nums\n",
    "        self.target = target\n",
    "        \n",
    "        # Create a hashmap(a list of all the values in the array and their location)\n",
    "        hashmap = {}        \n",
    "        for i in range(len(nums)):\n",
    "            hashmap[nums[i]] = i            \n",
    "        \n",
    "        # Calculating the difference between the target and each number in the array\n",
    "        for i in range(len(nums)):     \n",
    "            complement = target - nums[i]\n",
    "\n",
    "            # If the difference is in the hashmap and it is not the current number, than we have found the result. \n",
    "            # In that case, return the difference, and the current number\n",
    "            if complement in hashmap and hashmap[complement] != i:\n",
    "                return [i, hashmap[complement]] \n",
    "    "
   ]
  },
  {
   "cell_type": "code",
   "execution_count": null,
   "id": "69ba9276-f9d0-4162-852e-259fd31aad9e",
   "metadata": {},
   "outputs": [],
   "source": [
    "l = leetcode()"
   ]
  },
  {
   "cell_type": "code",
   "execution_count": null,
   "id": "65cbc221-a1e2-4608-94b7-17198b3b9768",
   "metadata": {},
   "outputs": [
    {
     "data": {
      "text/plain": [
       "38"
      ]
     },
     "execution_count": 71,
     "metadata": {},
     "output_type": "execute_result"
    }
   ],
   "source": [
    "l.best_time_buy([8,2,8,40,15])"
   ]
  },
  {
   "cell_type": "markdown",
   "id": "d02662e3-249b-402d-ba41-aa03b306c500",
   "metadata": {},
   "source": [
    "## Contains Duplicate"
   ]
  },
  {
   "cell_type": "markdown",
   "id": "8ce05a57-777f-4c7d-a899-8396759253af",
   "metadata": {},
   "source": [
    "Given an integer array nums, return true if any value appears at least twice in the array, and return false if every element is distinct."
   ]
  },
  {
   "cell_type": "markdown",
   "id": "9e1b6989-0e66-4df6-8358-e5b61851fbeb",
   "metadata": {},
   "source": [
    "### Pseudo code "
   ]
  },
  {
   "cell_type": "code",
   "execution_count": null,
   "id": "0379072b-b414-4194-bec7-3133e9e6adaa",
   "metadata": {},
   "outputs": [],
   "source": [
    "create an empty dictioary(key = item, value = num of apperances)\n",
    "\n",
    "run insertion sort on the array\n",
    "\n",
    "for item in the array\n",
    "    \n",
    "    run a binary search on the dictionary, if the item is in the dictionary raise counter by one, if not, set num_of_app = 1\n",
    "\n",
    "    return dictionary    "
   ]
  },
  {
   "cell_type": "markdown",
   "id": "9cc575da-a632-444c-acf8-3b8c03d5fa0f",
   "metadata": {},
   "source": [
    "- Note- this pseudo code is great for counting the number of apperances for all items.\n",
    "- Here i just need to say of a value appeared at least twice. I ll think of something more simple."
   ]
  },
  {
   "cell_type": "markdown",
   "id": "5b6ecbc6-ead3-48af-b442-9e519092e63b",
   "metadata": {},
   "source": [
    "### Pseudo code - Brute force"
   ]
  },
  {
   "cell_type": "code",
   "execution_count": null,
   "id": "db1e0039-2cc3-4038-863d-0f8d7ac7bd59",
   "metadata": {},
   "outputs": [],
   "source": [
    "for current_item in the array\n",
    "    for next_item in the array\n",
    "        \n",
    "        if next_item == current_item\n",
    "            return true"
   ]
  },
  {
   "cell_type": "code",
   "execution_count": null,
   "id": "bc008b0e-e8a0-4c43-aeb0-efdf2581e642",
   "metadata": {},
   "outputs": [],
   "source": [
    "l = leetcode()"
   ]
  },
  {
   "cell_type": "code",
   "execution_count": null,
   "id": "a0a3d715-0c1f-485a-8b9b-6d4877874d88",
   "metadata": {},
   "outputs": [
    {
     "data": {
      "text/plain": [
       "True"
      ]
     },
     "execution_count": 26,
     "metadata": {},
     "output_type": "execute_result"
    }
   ],
   "source": [
    "l.contains_duplicate([1,2,3,4,5,6, 6])"
   ]
  },
  {
   "cell_type": "markdown",
   "id": "11497eaa-d28f-415e-b270-08363d26aab6",
   "metadata": {},
   "source": [
    "### Pseudo Code - Improved"
   ]
  },
  {
   "cell_type": "code",
   "execution_count": null,
   "id": "2fdf5079-7b45-4e3b-9fc9-394a3dd17ae5",
   "metadata": {},
   "outputs": [],
   "source": [
    "run insertion sort\n",
    "\n",
    "for current_item in the array\n",
    "    for next_item in the array\n",
    "        \n",
    "        if next_item == current_item\n",
    "            return true"
   ]
  },
  {
   "cell_type": "code",
   "execution_count": null,
   "id": "06cfe463-52b2-4ed4-acc2-710473961ae5",
   "metadata": {},
   "outputs": [],
   "source": [
    "from Algorithms_Helper1 import my_algorithms, leetcode"
   ]
  },
  {
   "cell_type": "code",
   "execution_count": null,
   "id": "81f796c5-1a35-4019-95ca-f8847e6ffae7",
   "metadata": {},
   "outputs": [],
   "source": [
    "algos = my_algorithms()\n",
    "l = leetcode()"
   ]
  },
  {
   "cell_type": "code",
   "execution_count": null,
   "id": "b4d4698f-e282-4505-852c-25e77dcb82f0",
   "metadata": {},
   "outputs": [],
   "source": [
    "nums = algos.insertion_sort([1,12,3,4,5,6,6])"
   ]
  },
  {
   "cell_type": "code",
   "execution_count": null,
   "id": "c565277b-3528-4874-8b1a-3d8f6c86a79c",
   "metadata": {},
   "outputs": [
    {
     "data": {
      "text/plain": [
       "True"
      ]
     },
     "execution_count": 34,
     "metadata": {},
     "output_type": "execute_result"
    }
   ],
   "source": [
    "l.contains_duplicate(nums)"
   ]
  },
  {
   "cell_type": "code",
   "execution_count": null,
   "id": "4de6f48a-3652-4ba3-a146-77a269bd4395",
   "metadata": {},
   "outputs": [],
   "source": []
  },
  {
   "cell_type": "code",
   "execution_count": null,
   "id": "df25fe0d-f7de-49f1-af94-e520c09d2a6f",
   "metadata": {},
   "outputs": [],
   "source": [
    "nums = [1,12,3,4,5,6,6]"
   ]
  },
  {
   "cell_type": "code",
   "execution_count": null,
   "id": "1268448b-0a27-4172-a4c4-2a8761096cbc",
   "metadata": {},
   "outputs": [],
   "source": [
    "def insertion_sort(A):\n",
    "        \n",
    "        '''\n",
    "        Sort an Array using Insertion Sort.\n",
    "        \n",
    "        Args:\n",
    "            - A(list) - A sequence of integers to be sorted.\n",
    "            \n",
    "        Returns:\n",
    "            - A(list) - An ordered sequence.\n",
    "        '''\n",
    "        \n",
    "        # Iterate through the array, starting from the second item\n",
    "        for j in range(1, len(A)):\n",
    "            \n",
    "            # i is always one index lower than j\n",
    "            # So A[j] should always be bigger than A[i], IF the array is sorted.\n",
    "            key = A[j]\n",
    "            i = j - 1\n",
    "            \n",
    "            # go though the array, and while A[i] is bigger than A[j], move A[i] one spot to the left.\n",
    "            # Keep doing it until A[j] is bigger than A[i]\n",
    "            while i > 0 and A[i] > key:\n",
    "                A[i + 1] = A[i]\n",
    "                i = i - 1\n",
    "                \n",
    "            # Set A[i] to be the index after A[j](i.e skip the part of the array that we already sorted).    \n",
    "            A[i + 1] = key\n",
    "            \n",
    "        return A"
   ]
  },
  {
   "cell_type": "code",
   "execution_count": null,
   "id": "48584ba7-40d4-47ac-8715-372b04d32833",
   "metadata": {},
   "outputs": [],
   "source": []
  },
  {
   "cell_type": "code",
   "execution_count": null,
   "id": "d6cf71c3-aa3c-48cc-9914-b1073dbd6894",
   "metadata": {},
   "outputs": [],
   "source": []
  },
  {
   "cell_type": "code",
   "execution_count": null,
   "id": "b434b7bf-c5a1-4dc7-ba03-9fe6717946f7",
   "metadata": {},
   "outputs": [],
   "source": []
  },
  {
   "cell_type": "code",
   "execution_count": null,
   "id": "5bddbc48-88a1-4f7e-a045-940263c8e747",
   "metadata": {},
   "outputs": [],
   "source": []
  }
 ],
 "metadata": {
  "kernelspec": {
   "display_name": "Python 3.10.6 ('data_engineering_linkedin': venv)",
   "language": "python",
   "name": "python3"
  },
  "language_info": {
   "codemirror_mode": {
    "name": "ipython",
    "version": 3
   },
   "file_extension": ".py",
   "mimetype": "text/x-python",
   "name": "python",
   "nbconvert_exporter": "python",
   "pygments_lexer": "ipython3",
   "version": "3.10.6"
  },
  "toc": {
   "base_numbering": 1,
   "nav_menu": {},
   "number_sections": true,
   "sideBar": true,
   "skip_h1_title": false,
   "title_cell": "Table of Contents",
   "title_sidebar": "Contents",
   "toc_cell": true,
   "toc_position": {},
   "toc_section_display": true,
   "toc_window_display": true
  },
  "vscode": {
   "interpreter": {
    "hash": "f39f0eb4aeb0b9f6d2b714059501ebc9e775be5ff79914d60c4b8bf1fe84dd10"
   }
  }
 },
 "nbformat": 4,
 "nbformat_minor": 5
}
